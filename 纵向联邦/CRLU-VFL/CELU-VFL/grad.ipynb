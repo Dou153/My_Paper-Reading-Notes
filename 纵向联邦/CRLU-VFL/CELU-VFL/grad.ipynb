{
 "cells": [
  {
   "cell_type": "code",
   "execution_count": 3,
   "metadata": {},
   "outputs": [],
   "source": [
    "import numpy as np\n",
    "import torch\n",
    "import torch.nn as nn\n",
    "import torch.nn.functional as F\n",
    "import torch.optim as optim\n",
    "from torch.utils.data import DataLoader, Dataset, TensorDataset"
   ]
  },
  {
   "cell_type": "code",
   "execution_count": 47,
   "metadata": {},
   "outputs": [
    {
     "name": "stdout",
     "output_type": "stream",
     "text": [
      "output.grad:\n",
      "tensor([0.5470])\n"
     ]
    },
    {
     "data": {
      "text/plain": [
       "<bound method Module.parameters of model(\n",
       "  (fc1): Linear(in_features=13, out_features=256, bias=True)\n",
       "  (fc2): Linear(in_features=256, out_features=256, bias=True)\n",
       "  (fc3): Linear(in_features=256, out_features=1, bias=True)\n",
       ")>"
      ]
     },
     "execution_count": 47,
     "metadata": {},
     "output_type": "execute_result"
    }
   ],
   "source": [
    "def prepared_data(file_path):\n",
    "    \n",
    "    # 读入训练集和验证集\n",
    "    train_data = np.load(file_path + '/train.npz')\n",
    "    valid_data = np.load(file_path + '/valid.npz')\n",
    "    \n",
    "    # 从NPZ文件中提取数据\n",
    "    # guest是稠密特征（数值型），host是稀疏特征（类别型）\n",
    "    trn_dense = train_data['guest']  # 训练集稠密特征\n",
    "    trn_sparse = train_data['host']  # 训练集稀疏特征\n",
    "    trn_y = train_data['labels']     # 训练集标签\n",
    "    \n",
    "    val_dense = valid_data['guest']  # 验证集稠密特征\n",
    "    val_sparse = valid_data['host']  # 验证集稀疏特征\n",
    "    val_y = valid_data['labels']     # 验证集标签\n",
    "    \n",
    "    # 构建特征列信息\n",
    "    # 稠密特征列（数值型特征）\n",
    "    dense_features = [{'name': f'I{i}', 'type': 'dense'} for i in range(trn_dense.shape[1])]\n",
    "    # 稀疏特征列（类别型特征）\n",
    "    sparse_features = [{'name': f'C{i}', 'type': 'sparse', 'feat_num': int(trn_sparse[:, i].max()) + 1, 'embed_dim': 8} \n",
    "                      for i in range(trn_sparse.shape[1])]\n",
    "    \n",
    "    # 特征列信息\n",
    "    fea_col = [dense_features, sparse_features]\n",
    "    \n",
    "    # 返回特征列信息和数据集\n",
    "    return fea_col, (trn_dense, trn_sparse, trn_y), (val_dense, val_sparse, val_y)\n",
    "\n",
    "\n",
    "fea_cols, (trn_dense, trn_sparse, trn_y), (val_dense, val_sparse, val_y) = prepared_data(\"./data/criteo\")\n",
    "\n",
    "# 把数据构建成数据管道\n",
    "# 创建训练集的TensorDataset\n",
    "dl_train_dataset = TensorDataset(\n",
    "    torch.tensor(trn_dense).float(), \n",
    "    torch.tensor(trn_sparse).long(), \n",
    "    torch.tensor(trn_y).float()\n",
    ")\n",
    "# 创建验证集的TensorDataset\n",
    "dl_val_dataset = TensorDataset(\n",
    "    torch.tensor(val_dense).float(), \n",
    "    torch.tensor(val_sparse).long(), \n",
    "    torch.tensor(val_y).float()\n",
    ")\n",
    "\n",
    "# 创建训练集的DataLoader\n",
    "dl_train = DataLoader(dl_train_dataset, shuffle=True, batch_size=128)\n",
    "# 创建验证集的DataLoader\n",
    "dl_val = DataLoader(dl_val_dataset, shuffle=True, batch_size=128)\n",
    "tensor_x = torch.from_numpy(trn_dense[0])\n",
    "tensor_y = torch.from_numpy(trn_y[[0]])\n",
    "# print(tensor_x)\n",
    "# print(tensor_y)\n",
    "\n",
    "\n",
    "class model(nn.Module):\n",
    "    def __init__(self):\n",
    "        super(model, self).__init__()\n",
    "        self.fc1 = nn.Linear(13, 256)\n",
    "        self.fc2 = nn.Linear(256, 256)\n",
    "        self.fc3 = nn.Linear(256, 1)\n",
    "\n",
    "    def forward(self, x):\n",
    "        x = F.relu(self.fc1(x))\n",
    "        x = F.relu(self.fc2(x))\n",
    "        x = self.fc3(x)\n",
    "        return x\n",
    "\n",
    "model = model()\n",
    "params = model.parameters()\n",
    "optimizer = optim.Adam(params, lr=0.001)\n",
    "loss_fn = nn.BCEWithLogitsLoss()\n",
    "# print(params)\n",
    "\n",
    "output = model(tensor_x)\n",
    "output.retain_grad()\n",
    "loss = loss_fn(output, tensor_y)\n",
    "optimizer.zero_grad()    \n",
    "loss.backward()\n",
    "print(\"output.grad:\")\n",
    "print(output.grad)\n",
    "\n",
    "optimizer.step()\n",
    "\n",
    "model.parameters\n",
    "# for name, parms in model.named_parameters():\t\n",
    "#     print('-->name:', name)\n",
    "#     print('-->para:', parms)\n",
    "#     print('-->grad_requirs:',parms.requires_grad)\n",
    "#     print('-->grad_value:',parms.grad)\n",
    "#     print(\"===\")"
   ]
  },
  {
   "cell_type": "code",
   "execution_count": null,
   "metadata": {},
   "outputs": [
    {
     "name": "stdout",
     "output_type": "stream",
     "text": [
      "tensor(-8.)\n"
     ]
    }
   ],
   "source": [
    "####测试backward\n",
    "def model_test(x,w1,w2,b):\n",
    "    y = w1*x**2+w2*x+b\n",
    "    return y\n",
    "\n",
    "test_params = torch.tensor([1.0, 0.0, 1.0], requires_grad=True)\n",
    "\n",
    "def loss_fn(t_p, t_c):\n",
    "    squared_diffs = (t_p - t_c)**2\n",
    "    return squared_diffs.mean()\n",
    "\n",
    "# outputs = torch.tensor([1.0], requires_grad=True)\n",
    "\n",
    "outputs = model_test(2, *test_params)\n",
    "outputs.retain_grad()\n",
    "loss = loss_fn(outputs, 9)\n",
    "\n",
    "loss.backward()\n",
    "print(outputs.grad)\n",
    "\n"
   ]
  },
  {
   "cell_type": "code",
   "execution_count": null,
   "metadata": {},
   "outputs": [
    {
     "name": "stdout",
     "output_type": "stream",
     "text": [
      "False\n",
      "False\n",
      "False\n",
      "True\n"
     ]
    }
   ],
   "source": [
    "##例子\n",
    "params = torch.tensor([1.0,1.0,1.0],requires_grad=True)     #初始化3个参数b1,w1,b2\n",
    "def model_test(a,b,d,b1,w1,b2):\n",
    "    y = (a+b+b1)*d*w1+b2\n",
    "    return y\n",
    "\n",
    "print(params[0].is_leaf)\n",
    "print(params[1].is_leaf)\n",
    "print(params[2].is_leaf)\n"
   ]
  }
 ],
 "metadata": {
  "kernelspec": {
   "display_name": "pytorch",
   "language": "python",
   "name": "python3"
  },
  "language_info": {
   "codemirror_mode": {
    "name": "ipython",
    "version": 3
   },
   "file_extension": ".py",
   "mimetype": "text/x-python",
   "name": "python",
   "nbconvert_exporter": "python",
   "pygments_lexer": "ipython3",
   "version": "3.10.16"
  }
 },
 "nbformat": 4,
 "nbformat_minor": 2
}
