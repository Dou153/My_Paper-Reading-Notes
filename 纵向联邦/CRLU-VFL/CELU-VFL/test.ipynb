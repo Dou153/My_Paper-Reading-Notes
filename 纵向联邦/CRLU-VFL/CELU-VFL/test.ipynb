{
 "cells": [
  {
   "cell_type": "code",
   "execution_count": 3,
   "metadata": {},
   "outputs": [
    {
     "name": "stdout",
     "output_type": "stream",
     "text": [
      "torch.Size([1, 16])\n",
      "torch.Size([3, 16])\n",
      "torch.Size([1, 3])\n"
     ]
    }
   ],
   "source": [
    "import torch\n",
    "import torch.nn as nn\n",
    "\n",
    "# 定义两层全连接网络\n",
    "class Net(nn.Module):\n",
    "    def __init__(self):\n",
    "        super(Net, self).__init__()\n",
    "        self.fc1 = nn.Linear(13, 16)  # 输入层到隐藏层\n",
    "        self.fc2 = nn.Linear(16, 3)    # 隐藏层到输出层\n",
    "        self.relu = nn.ReLU()\n",
    "\n",
    "    def forward(self, x):\n",
    "        x = self.relu(self.fc1(x))\n",
    "        print(x.shape)\n",
    "        x = self.fc2(x)\n",
    "        return x\n",
    "\n",
    "# 初始化模型和输入\n",
    "model = Net()\n",
    "x = torch.randn(1, 13)  # 生成一个样本 (batch_size=1, input_dim=13)\n",
    "\n",
    "# 前向传播\n",
    "output = model(x)\n",
    "\n",
    "# 已知损失函数对输出的导数为0.789\n",
    "output_grad = torch.tensor([[0.789,1.22,0.456]], dtype=torch.float)  # 关键修复: 使用二维张量[1,1]\n",
    "\n",
    "# 清除现有梯度（重要！）\n",
    "model.zero_grad()\n",
    "\n",
    "# 反向传播：将已知梯度传入backward()\n",
    "output.backward(gradient=output_grad)\n",
    "print(model.fc2.weight.shape)\n",
    "print(output.shape)\n",
    "\n",
    "# 验证梯度传播结果（可选）\n",
    "# print(\"梯度检查:\")\n",
    "# print(f\"输出层权重梯度均值: {model.fc2.weight.grad}\")\n",
    "# print(f\"输出层偏置梯度: {model.fc2.bias.grad}\")\n",
    "# print(f\"隐藏层权重梯度均值: {model.fc1.weight.grad}\")\n",
    "# print(f\"隐藏层偏置梯度均值: {model.fc1.bias.grad}\")"
   ]
  },
  {
   "cell_type": "code",
   "execution_count": null,
   "metadata": {},
   "outputs": [],
   "source": [
    "int nums[]"
   ]
  }
 ],
 "metadata": {
  "kernelspec": {
   "display_name": "pytorch",
   "language": "python",
   "name": "python3"
  },
  "language_info": {
   "codemirror_mode": {
    "name": "ipython",
    "version": 3
   },
   "file_extension": ".py",
   "mimetype": "text/x-python",
   "name": "python",
   "nbconvert_exporter": "python",
   "pygments_lexer": "ipython3",
   "version": "3.10.16"
  }
 },
 "nbformat": 4,
 "nbformat_minor": 2
}
